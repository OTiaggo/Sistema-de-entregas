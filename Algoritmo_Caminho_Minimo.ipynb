{
  "nbformat": 4,
  "nbformat_minor": 0,
  "metadata": {
    "colab": {
      "provenance": []
    },
    "kernelspec": {
      "name": "python3",
      "display_name": "Python 3"
    },
    "language_info": {
      "name": "python"
    }
  },
  "cells": [
    {
      "cell_type": "markdown",
      "source": [
        "# Criando a matriz distância a partir dos endereços"
      ],
      "metadata": {
        "id": "uW00dZa6RQKE"
      }
    },
    {
      "cell_type": "code",
      "execution_count": 1,
      "metadata": {
        "id": "NK0ZtGIQCdmA",
        "outputId": "30f9df8d-1b5c-4a41-e896-8c08fd04c170",
        "colab": {
          "base_uri": "https://localhost:8080/",
          "height": 211
        }
      },
      "outputs": [
        {
          "output_type": "error",
          "ename": "NameError",
          "evalue": "name 'row' is not defined",
          "traceback": [
            "\u001b[0;31m---------------------------------------------------------------------------\u001b[0m",
            "\u001b[0;31mNameError\u001b[0m                                 Traceback (most recent call last)",
            "\u001b[0;32m<ipython-input-1-ba0a1014fb25>\u001b[0m in \u001b[0;36m<cell line: 0>\u001b[0;34m()\u001b[0m\n\u001b[1;32m     59\u001b[0m   \u001b[0;32mreturn\u001b[0m \u001b[0mdistance_matrix\u001b[0m\u001b[0;34m\u001b[0m\u001b[0;34m\u001b[0m\u001b[0m\n\u001b[1;32m     60\u001b[0m \u001b[0;34m\u001b[0m\u001b[0m\n\u001b[0;32m---> 61\u001b[0;31m \u001b[0mrow_list\u001b[0m \u001b[0;34m=\u001b[0m \u001b[0;34m[\u001b[0m\u001b[0mrow\u001b[0m\u001b[0;34m[\u001b[0m\u001b[0;34m'elements'\u001b[0m\u001b[0;34m]\u001b[0m\u001b[0;34m[\u001b[0m\u001b[0mj\u001b[0m\u001b[0;34m]\u001b[0m\u001b[0;34m[\u001b[0m\u001b[0;34m'distance'\u001b[0m\u001b[0;34m]\u001b[0m\u001b[0;34m[\u001b[0m\u001b[0;34m'value'\u001b[0m\u001b[0;34m]\u001b[0m \u001b[0;32mfor\u001b[0m \u001b[0mj\u001b[0m \u001b[0;32min\u001b[0m \u001b[0mrange\u001b[0m\u001b[0;34m(\u001b[0m\u001b[0mlen\u001b[0m\u001b[0;34m(\u001b[0m\u001b[0mrow\u001b[0m\u001b[0;34m[\u001b[0m\u001b[0;34m'elements'\u001b[0m\u001b[0;34m]\u001b[0m\u001b[0;34m)\u001b[0m\u001b[0;34m)\u001b[0m\u001b[0;34m]\u001b[0m\u001b[0;34m\u001b[0m\u001b[0;34m\u001b[0m\u001b[0m\n\u001b[0m\u001b[1;32m     62\u001b[0m \u001b[0;34m\u001b[0m\u001b[0m\n\u001b[1;32m     63\u001b[0m \u001b[0;32mdef\u001b[0m \u001b[0mmain\u001b[0m\u001b[0;34m(\u001b[0m\u001b[0;34m)\u001b[0m\u001b[0;34m:\u001b[0m\u001b[0;34m\u001b[0m\u001b[0;34m\u001b[0m\u001b[0m\n",
            "\u001b[0;31mNameError\u001b[0m: name 'row' is not defined"
          ]
        }
      ],
      "source": [
        "enderecos = []\n",
        "\n",
        "def create_data():\n",
        "  \"\"\"Creates the data.\"\"\"\n",
        "  data = {}\n",
        "  data['API_key'] = 'YOUR_API_KEY'\n",
        "  data['addresses'] = []\n",
        "  return data\n",
        "\n",
        "def create_distance_matrix(data):\n",
        "  addresses = data[\"addresses\"]\n",
        "  API_key = data[\"API_key\"]\n",
        "  # Distance Matrix API only accepts 100 elements per request, so get rows in multiple requests.\n",
        "  max_elements = 100\n",
        "  num_addresses = len(addresses) # 16 in this example.\n",
        "  # Maximum number of rows that can be computed per request (6 in this example).\n",
        "  max_rows = max_elements // num_addresses\n",
        "  # num_addresses = q * max_rows + r (q = 2 and r = 4 in this example).\n",
        "  q, r = divmod(num_addresses, max_rows)\n",
        "  dest_addresses = addresses\n",
        "  distance_matrix = []\n",
        "  # Send q requests, returning max_rows rows per request.\n",
        "  for i in range(q):\n",
        "    origin_addresses = addresses[i * max_rows: (i + 1) * max_rows]\n",
        "    response = send_request(origin_addresses, dest_addresses, API_key)\n",
        "    distance_matrix += build_distance_matrix(response)\n",
        "\n",
        "  # Get the remaining remaining r rows, if necessary.\n",
        "  if r > 0:\n",
        "    origin_addresses = addresses[q * max_rows: q * max_rows + r]\n",
        "    response = send_request(origin_addresses, dest_addresses, API_key)\n",
        "    distance_matrix += build_distance_matrix(response)\n",
        "  return distance_matrix\n",
        "\n",
        "def send_request(origin_addresses, dest_addresses, API_key):\n",
        "  \"\"\" Build and send request for the given origin and destination addresses.\"\"\"\n",
        "  def build_address_str(addresses):\n",
        "    # Build a pipe-separated string of addresses\n",
        "    address_str = ''\n",
        "    for i in range(len(addresses) - 1):\n",
        "      address_str += addresses[i] + '|'\n",
        "    address_str += addresses[-1]\n",
        "    return address_str\n",
        "\n",
        "  request = 'https://maps.googleapis.com/maps/api/distancematrix/json?units=imperial'\n",
        "  origin_address_str = build_address_str(origin_addresses)\n",
        "  dest_address_str = build_address_str(dest_addresses)\n",
        "  request = request + '&origins=' + origin_address_str + '&destinations=' + \\\n",
        "                       dest_address_str + '&key=' + API_key\n",
        "  jsonResult = urllib.urlopen(request).read()\n",
        "  response = json.loads(jsonResult)\n",
        "  return response\n",
        "\n",
        "def build_distance_matrix(response):\n",
        "  distance_matrix = []\n",
        "  for row in response['rows']:\n",
        "    row_list = [row['elements'][j]['distance']['value'] for j in range(len(row['elements']))]\n",
        "    distance_matrix.append(row_list)\n",
        "  return distance_matrix\n",
        "\n",
        "row_list = [row['elements'][j]['distance']['value'] for j in range(len(row['elements']))]\n",
        "\n",
        "def main():\n",
        "  \"\"\"Entry point of the program\"\"\"\n",
        "  # Create the data.\n",
        "  data = create_data()\n",
        "  addresses = data['addresses']\n",
        "  API_key = data['API_key']\n",
        "  distance_matrix = create_distance_matrix(data)\n",
        "  print(distance_matrix)"
      ]
    }
  ]
}